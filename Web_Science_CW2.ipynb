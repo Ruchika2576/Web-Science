{
  "nbformat": 4,
  "nbformat_minor": 0,
  "metadata": {
    "colab": {
      "name": "Web_Science_CW2.ipynb",
      "provenance": []
    },
    "kernelspec": {
      "name": "python3",
      "display_name": "Python 3"
    },
    "language_info": {
      "name": "python"
    }
  },
  "cells": [
    {
      "cell_type": "code",
      "metadata": {
        "colab": {
          "base_uri": "https://localhost:8080/"
        },
        "id": "CrZAXnu8BNFy",
        "outputId": "361d9d4c-3031-43f1-fea9-69041c795149"
      },
      "source": [
        "from google.colab import drive\n",
        "drive.mount('/content/drive')"
      ],
      "execution_count": 21,
      "outputs": [
        {
          "output_type": "stream",
          "text": [
            "Drive already mounted at /content/drive; to attempt to forcibly remount, call drive.mount(\"/content/drive\", force_remount=True).\n"
          ],
          "name": "stdout"
        }
      ]
    },
    {
      "cell_type": "code",
      "metadata": {
        "id": "h25Piq8gGBg4"
      },
      "source": [
        "import pandas as pd\n",
        "import numpy as np\n",
        "import matplotlib.pyplot as plt\n",
        "import seaborn as sns\n",
        "import sys\n",
        "from math import radians, cos, sin, asin, sqrt, ceil, floor"
      ],
      "execution_count": 22,
      "outputs": []
    },
    {
      "cell_type": "code",
      "metadata": {
        "id": "08_DVHN2BP5-"
      },
      "source": [
        "data= pd.read_json('/content/drive/MyDrive/Colab Notebooks/Web-Science/geoLondonAug2020-1', lines=True)"
      ],
      "execution_count": 23,
      "outputs": []
    },
    {
      "cell_type": "code",
      "metadata": {
        "colab": {
          "base_uri": "https://localhost:8080/"
        },
        "id": "VPw-ZEWtEplB",
        "outputId": "70908422-c609-4648-dc0c-75798e65d12a"
      },
      "source": [
        "data.shape"
      ],
      "execution_count": 24,
      "outputs": [
        {
          "output_type": "execute_result",
          "data": {
            "text/plain": [
              "(1731, 14)"
            ]
          },
          "metadata": {
            "tags": []
          },
          "execution_count": 24
        }
      ]
    },
    {
      "cell_type": "code",
      "metadata": {
        "colab": {
          "base_uri": "https://localhost:8080/",
          "height": 462
        },
        "id": "k0sHsCkpEsqO",
        "outputId": "87cd8d6e-860b-447d-c628-1b26c63a83ae"
      },
      "source": [
        "data.head(5)"
      ],
      "execution_count": 25,
      "outputs": [
        {
          "output_type": "execute_result",
          "data": {
            "text/html": [
              "<div>\n",
              "<style scoped>\n",
              "    .dataframe tbody tr th:only-of-type {\n",
              "        vertical-align: middle;\n",
              "    }\n",
              "\n",
              "    .dataframe tbody tr th {\n",
              "        vertical-align: top;\n",
              "    }\n",
              "\n",
              "    .dataframe thead th {\n",
              "        text-align: right;\n",
              "    }\n",
              "</style>\n",
              "<table border=\"1\" class=\"dataframe\">\n",
              "  <thead>\n",
              "    <tr style=\"text-align: right;\">\n",
              "      <th></th>\n",
              "      <th>_id</th>\n",
              "      <th>date</th>\n",
              "      <th>username</th>\n",
              "      <th>text</th>\n",
              "      <th>geoenabled</th>\n",
              "      <th>coordinates</th>\n",
              "      <th>location</th>\n",
              "      <th>place_name</th>\n",
              "      <th>place_country</th>\n",
              "      <th>country_code</th>\n",
              "      <th>place_coordinates</th>\n",
              "      <th>hashtags</th>\n",
              "      <th>mentions</th>\n",
              "      <th>source</th>\n",
              "    </tr>\n",
              "  </thead>\n",
              "  <tbody>\n",
              "    <tr>\n",
              "      <th>0</th>\n",
              "      <td>1289290528475906049</td>\n",
              "      <td>{'$date': '2020-07-31T20:03:10Z'}</td>\n",
              "      <td>markjg65</td>\n",
              "      <td>Sunset to die for \\n\\n#sunset #sunsetphotograp...</td>\n",
              "      <td>True</td>\n",
              "      <td>{'type': 'Point', 'coordinates': [-0.0936, 51....</td>\n",
              "      <td>London, England</td>\n",
              "      <td>Camberwell, London</td>\n",
              "      <td>United Kingdom</td>\n",
              "      <td>GB</td>\n",
              "      <td>[[[-0.11147549999999999, 51.4194247], [-0.0297...</td>\n",
              "      <td>[sunset, sunsetphotography, summervibes, summe...</td>\n",
              "      <td>[]</td>\n",
              "      <td>Instagram</td>\n",
              "    </tr>\n",
              "    <tr>\n",
              "      <th>1</th>\n",
              "      <td>1289290621782380544</td>\n",
              "      <td>{'$date': '2020-07-31T20:03:32Z'}</td>\n",
              "      <td>willwpw</td>\n",
              "      <td>This months LUSH Kitchen Subscription box is h...</td>\n",
              "      <td>True</td>\n",
              "      <td>{'type': 'Point', 'coordinates': [-0.109400000...</td>\n",
              "      <td>London</td>\n",
              "      <td>City of London, London</td>\n",
              "      <td>United Kingdom</td>\n",
              "      <td>GB</td>\n",
              "      <td>[[[-0.112442, 51.5068], [-0.0733794, 51.5068],...</td>\n",
              "      <td>[]</td>\n",
              "      <td>[LushKitchen]</td>\n",
              "      <td>Instagram</td>\n",
              "    </tr>\n",
              "    <tr>\n",
              "      <th>2</th>\n",
              "      <td>1289290626538672128</td>\n",
              "      <td>{'$date': '2020-07-31T20:03:33Z'}</td>\n",
              "      <td>_AndreaUrbanFoX</td>\n",
              "      <td>Beautiful sky over #bethnalgreen tonight. #Eas...</td>\n",
              "      <td>True</td>\n",
              "      <td>{'type': 'Point', 'coordinates': [-0.109400000...</td>\n",
              "      <td>stab city</td>\n",
              "      <td>City of London, London</td>\n",
              "      <td>United Kingdom</td>\n",
              "      <td>GB</td>\n",
              "      <td>[[[-0.112442, 51.5068], [-0.0733794, 51.5068],...</td>\n",
              "      <td>[bethnalgreen, EastLondon, sunset, heatwave, s...</td>\n",
              "      <td>[]</td>\n",
              "      <td>Instagram</td>\n",
              "    </tr>\n",
              "    <tr>\n",
              "      <th>3</th>\n",
              "      <td>1289290647669637120</td>\n",
              "      <td>{'$date': '2020-07-31T20:03:38Z'}</td>\n",
              "      <td>_JOSSCARTER_</td>\n",
              "      <td>VERY happy to finally see the sun go down. Tod...</td>\n",
              "      <td>True</td>\n",
              "      <td>{'type': 'Point', 'coordinates': [-0.109400000...</td>\n",
              "      <td>London, England</td>\n",
              "      <td>City of London, London</td>\n",
              "      <td>United Kingdom</td>\n",
              "      <td>GB</td>\n",
              "      <td>[[[-0.112442, 51.5068], [-0.0733794, 51.5068],...</td>\n",
              "      <td>[]</td>\n",
              "      <td>[]</td>\n",
              "      <td>Instagram</td>\n",
              "    </tr>\n",
              "    <tr>\n",
              "      <th>4</th>\n",
              "      <td>1289290936648781824</td>\n",
              "      <td>{'$date': '2020-07-31T20:04:47Z'}</td>\n",
              "      <td>JoFreemanMakeup</td>\n",
              "      <td>𝙷𝚊𝚙𝚙𝚢 𝙵𝚛𝚒𝚈𝚊𝚢 𝙱𝚎𝚊𝚞𝚝𝚒𝚎𝚜 , 𝚑𝚘𝚠 𝚑𝚊𝚜 𝚢𝚘𝚞𝚛 𝚠𝚎𝚎𝚔 𝚋𝚎𝚎𝚗...</td>\n",
              "      <td>True</td>\n",
              "      <td>{'type': 'Point', 'coordinates': [-0.109400000...</td>\n",
              "      <td>Here, there &amp; everywhere. . .</td>\n",
              "      <td>City of London, London</td>\n",
              "      <td>United Kingdom</td>\n",
              "      <td>GB</td>\n",
              "      <td>[[[-0.112442, 51.5068], [-0.0733794, 51.5068],...</td>\n",
              "      <td>[FriYayFaves]</td>\n",
              "      <td>[]</td>\n",
              "      <td>Instagram</td>\n",
              "    </tr>\n",
              "  </tbody>\n",
              "</table>\n",
              "</div>"
            ],
            "text/plain": [
              "                   _id  ...     source\n",
              "0  1289290528475906049  ...  Instagram\n",
              "1  1289290621782380544  ...  Instagram\n",
              "2  1289290626538672128  ...  Instagram\n",
              "3  1289290647669637120  ...  Instagram\n",
              "4  1289290936648781824  ...  Instagram\n",
              "\n",
              "[5 rows x 14 columns]"
            ]
          },
          "metadata": {
            "tags": []
          },
          "execution_count": 25
        }
      ]
    },
    {
      "cell_type": "code",
      "metadata": {
        "colab": {
          "base_uri": "https://localhost:8080/"
        },
        "id": "3_2amngAEwN7",
        "outputId": "7db6f79e-fafc-4353-8d83-f08a3fd8f8ce"
      },
      "source": [
        "data.columns"
      ],
      "execution_count": 26,
      "outputs": [
        {
          "output_type": "execute_result",
          "data": {
            "text/plain": [
              "Index(['_id', 'date', 'username', 'text', 'geoenabled', 'coordinates',\n",
              "       'location', 'place_name', 'place_country', 'country_code',\n",
              "       'place_coordinates', 'hashtags', 'mentions', 'source'],\n",
              "      dtype='object')"
            ]
          },
          "metadata": {
            "tags": []
          },
          "execution_count": 26
        }
      ]
    },
    {
      "cell_type": "code",
      "metadata": {
        "colab": {
          "base_uri": "https://localhost:8080/"
        },
        "id": "woikZl7gEy9g",
        "outputId": "d34fd608-8286-4efb-8935-07addf02d820"
      },
      "source": [
        "data['coordinates'].head(1)[0]"
      ],
      "execution_count": 27,
      "outputs": [
        {
          "output_type": "execute_result",
          "data": {
            "text/plain": [
              "{'coordinates': [-0.0936, 51.4544], 'type': 'Point'}"
            ]
          },
          "metadata": {
            "tags": []
          },
          "execution_count": 27
        }
      ]
    },
    {
      "cell_type": "code",
      "metadata": {
        "id": "ODBaCoyMFjry"
      },
      "source": [
        "#given London coordinates\n",
        "london_coordinates_0 = [-0.563, 51.261318]\n",
        "london_coordinates_1 = [0.28036, 51.686031]\n",
        "\n",
        "#latitude\n",
        "y1 = 51.261318 \n",
        "y2 = 51.686031\n",
        "\n",
        "#longitude\n",
        "x1 = -0.563 \n",
        "x2 = 0.28036 \n",
        "\n",
        "# Calculate the great circle distance between two points on the earth (specified in decimal degrees)\n",
        "\n",
        "def haversine_distance(lon1, lat1, lon2, lat2):\n",
        "    # convert decimal degrees to radians \n",
        "    l1, la1, l2, la2 = map(radians, [lon1, lat1, lon2, lat2])\n",
        "    # Radius of earth in kilometers. \n",
        "    R = 6371 \n",
        "    # haversine formula \n",
        "    delta_l = l2 - l1 \n",
        "    delta_la = la2 - la1 \n",
        "    a = sin(delta_la/2) ** 2 + cos(la1) * cos(la2) * sin(delta_l/2) ** 2\n",
        "    c = 2 * asin(sqrt(a)) \n",
        "    \n",
        "    return c * R\n",
        "\n",
        "horizontal_dist = haversine_distance(x1, y1, x2, y1)\n",
        "vertical_dist = haversine_distance(x1, y1,  x1, y2) "
      ],
      "execution_count": 28,
      "outputs": []
    },
    {
      "cell_type": "code",
      "metadata": {
        "colab": {
          "base_uri": "https://localhost:8080/"
        },
        "id": "ycWJQrY5BiNp",
        "outputId": "587a721f-9972-444e-dd32-0af493105fe8"
      },
      "source": [
        "cols = ceil(horizontal_dist)\n",
        "rows = ceil(vertical_dist)\n",
        "\n",
        "grid = np.zeros((rows, cols), dtype=int)\n",
        "print(grid.shape)"
      ],
      "execution_count": 29,
      "outputs": [
        {
          "output_type": "stream",
          "text": [
            "(48, 59)\n"
          ],
          "name": "stdout"
        }
      ]
    },
    {
      "cell_type": "code",
      "metadata": {
        "id": "U60tUJ-FBmEc"
      },
      "source": [
        "# Assigning grid point \n",
        "\n",
        "def grid_point(l, la):\n",
        "  \n",
        "    horizontal_dist = ceil(haversine_distance(x1, y1, l, y1))\n",
        "    vertical_dist = ceil(haversine_distance(x1, y1, x1, la))\n",
        "    grid[vertical_dist][horizontal_dist] = grid[vertical_dist][horizontal_dist] + 1\n",
        "\n",
        "for x in data['coordinates']:\n",
        "    l = x['coordinates'][0]\n",
        "    la = x['coordinates'][1]\n",
        "    grid_point(l, la)"
      ],
      "execution_count": 30,
      "outputs": []
    },
    {
      "cell_type": "code",
      "metadata": {
        "colab": {
          "base_uri": "https://localhost:8080/"
        },
        "id": "SAKTTgDyNBr6",
        "outputId": "5701cea4-5246-41ab-9f5e-e7c90bbbfa33"
      },
      "source": [
        "print(grid.shape)"
      ],
      "execution_count": 31,
      "outputs": [
        {
          "output_type": "stream",
          "text": [
            "(48, 59)\n"
          ],
          "name": "stdout"
        }
      ]
    },
    {
      "cell_type": "code",
      "metadata": {
        "colab": {
          "base_uri": "https://localhost:8080/",
          "height": 610
        },
        "id": "bXvoxW_zBsDi",
        "outputId": "3e0e51fa-9a0a-4d64-caae-58d7b8c6b7a4"
      },
      "source": [
        "import warnings\n",
        "warnings.filterwarnings(\"ignore\")\n",
        "\n",
        "plt.figure(figsize=(15,10))\n",
        "np.set_printoptions(threshold=10000)\n",
        "ax = sns.heatmap(np.log(grid) , cmap=\"YlGnBu\", yticklabels=True, xticklabels=True, vmin = 0, vmax=10, linewidths=0.5)\n",
        "plt.title('London-Heatmap for number of tweets per grid')\n",
        "plt.show()"
      ],
      "execution_count": 36,
      "outputs": [
        {
          "output_type": "display_data",
          "data": {
            "image/png": "[encoded data removed]",
            "text/plain": [
              "<Figure size 1080x720 with 2 Axes>"
            ]
          },
          "metadata": {
            "tags": [],
            "needs_background": "light"
          }
        }
      ]
    },
    {
      "cell_type": "code",
      "metadata": {
        "colab": {
          "base_uri": "https://localhost:8080/",
          "height": 458
        },
        "id": "4jnLYEecBvF5",
        "outputId": "a633418b-ca3c-4fce-d6c9-f419b386e7fd"
      },
      "source": [
        "plt.figure(figsize=(15, 7))\n",
        "plt.xlabel(\"Number of tweets\")\n",
        "plt.ylabel(\"Number of grids\")\n",
        "plt.hist(grid.flatten(), log=True, bins=500)\n",
        "plt.title('Tweet Distribution')\n",
        "plt.show()"
      ],
      "execution_count": 38,
      "outputs": [
        {
          "output_type": "display_data",
          "data": {
            "image/png": "[encoded data removed]",
            "text/plain": [
              "<Figure size 1080x504 with 1 Axes>"
            ]
          },
          "metadata": {
            "tags": [],
            "needs_background": "light"
          }
        }
      ]
    },
    {
      "cell_type": "code",
      "metadata": {
        "id": "RYPEVrqqODw1"
      },
      "source": [
        ""
      ],
      "execution_count": 33,
      "outputs": []
    }
  ]
}